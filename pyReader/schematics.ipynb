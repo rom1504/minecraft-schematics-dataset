{
 "cells": [
  {
   "cell_type": "code",
   "execution_count": 10,
   "metadata": {
    "id": "KdwRzEpMag4m"
   },
   "outputs": [],
   "source": [
    "import tensorflow as tf\n",
    "import numpy"
   ]
  },
  {
   "cell_type": "code",
   "execution_count": null,
   "metadata": {},
   "outputs": [],
   "source": []
  },
  {
   "cell_type": "code",
   "execution_count": 11,
   "metadata": {},
   "outputs": [],
   "source": [
    "# Create a description of the features.\n",
    "feature_description = {\n",
    "    'url': tf.io.FixedLenFeature([], tf.string, default_value=''),\n",
    "    'schematicData': tf.io.FixedLenFeature([], tf.string, default_value=''),\n",
    "}\n",
    "\n",
    "def _parse_function(example_proto):\n",
    "  # Parse the input `tf.train.Example` proto using the dictionary above.\n",
    "  return tf.io.parse_single_example(example_proto, feature_description)"
   ]
  },
  {
   "cell_type": "code",
   "execution_count": 12,
   "metadata": {},
   "outputs": [
    {
     "data": {
      "text/plain": [
       "<TFRecordDatasetV2 shapes: (), types: tf.string>"
      ]
     },
     "execution_count": 12,
     "metadata": {},
     "output_type": "execute_result"
    }
   ],
   "source": [
    "filenames = [\"/workspace/minecraft-schematics-dataset/good_small.tfrecord.gz\"]\n",
    "raw_dataset = tf.data.TFRecordDataset(filenames, compression_type=\"GZIP\")\n",
    "raw_dataset\n"
   ]
  },
  {
   "cell_type": "code",
   "execution_count": 13,
   "metadata": {},
   "outputs": [
    {
     "name": "stdout",
     "output_type": "stream",
     "text": [
      "261754\n",
      "259509\n",
      "261801\n",
      "261584\n",
      "261953\n",
      "261942\n",
      "260855\n",
      "262159\n",
      "261816\n",
      "261814\n"
     ]
    }
   ],
   "source": [
    "for raw_record in raw_dataset.take(10):\n",
    "  print(len(repr(raw_record)))"
   ]
  },
  {
   "cell_type": "code",
   "execution_count": 14,
   "metadata": {},
   "outputs": [
    {
     "data": {
      "text/plain": [
       "<MapDataset shapes: {schematicData: (), url: ()}, types: {schematicData: tf.string, url: tf.string}>"
      ]
     },
     "execution_count": 14,
     "metadata": {},
     "output_type": "execute_result"
    }
   ],
   "source": [
    "parsed_dataset = raw_dataset.map(_parse_function)\n",
    "parsed_dataset"
   ]
  },
  {
   "cell_type": "code",
   "execution_count": 15,
   "metadata": {},
   "outputs": [
    {
     "name": "stdout",
     "output_type": "stream",
     "text": [
      "(<tf.Tensor: shape=(32, 32, 32), dtype=int16, numpy=\n",
      "array([[[    0,    77,     0, ...,     0,     0,     0],\n",
      "        [    0,    77,     0, ...,     0,     0,     0],\n",
      "        [14891,    77,     0, ...,     0,     0,     0],\n",
      "        ...,\n",
      "        [    0,     0,     0, ...,     0,     0,     0],\n",
      "        [    0,     0,     0, ...,     0,     0,     0],\n",
      "        [    0,     0,     0, ...,     0,     0,     0]],\n",
      "\n",
      "       [[    0,     0,  4495, ...,     0,     0,     0],\n",
      "        [    0,     0,  4495, ...,     0,     0,     0],\n",
      "        [    0,     0,    14, ...,     0,     0,     0],\n",
      "        ...,\n",
      "        [    0,     0,     0, ...,     0,     0,     0],\n",
      "        [    0,     0,     0, ...,     0,     0,     0],\n",
      "        [    0,     0,     0, ...,     0,     0,     0]],\n",
      "\n",
      "       [[    0,     0,  4495, ...,     0,     0,     0],\n",
      "        [    0,     0,  4495, ...,     0,     0,     0],\n",
      "        [    0,     0,  4495, ...,     0,     0,     0],\n",
      "        ...,\n",
      "        [    0,     0,     0, ...,     0,     0,     0],\n",
      "        [    0,     0,     0, ...,     0,     0,     0],\n",
      "        [    0,     0,     0, ...,     0,     0,     0]],\n",
      "\n",
      "       ...,\n",
      "\n",
      "       [[    0,     0,     0, ...,     0,     0,     0],\n",
      "        [    0,     0,     0, ...,     0,     0,     0],\n",
      "        [    0,     0,     0, ...,     0,     0,     0],\n",
      "        ...,\n",
      "        [    0,     0,     0, ...,     0,     0,     0],\n",
      "        [    0,     0,     0, ...,     0,     0,     0],\n",
      "        [    0,     0,     0, ...,     0,     0,     0]],\n",
      "\n",
      "       [[    0,     0,     0, ...,     0,     0,     0],\n",
      "        [    0,     0,     0, ...,     0,     0,     0],\n",
      "        [    0,     0,     0, ...,     0,     0,     0],\n",
      "        ...,\n",
      "        [    0,     0,     0, ...,     0,     0,     0],\n",
      "        [    0,     0,     0, ...,     0,     0,     0],\n",
      "        [    0,     0,     0, ...,     0,     0,     0]],\n",
      "\n",
      "       [[    0,     0,     0, ...,     0,     0,     0],\n",
      "        [    0,     0,     0, ...,     0,     0,     0],\n",
      "        [    0,     0,     0, ...,     0,     0,     0],\n",
      "        ...,\n",
      "        [    0,     0,     0, ...,     0,     0,     0],\n",
      "        [    0,     0,     0, ...,     0,     0,     0],\n",
      "        [    0,     0,     0, ...,     0,     0,     0]]], dtype=int16)>,)\n"
     ]
    }
   ],
   "source": [
    "def f(a):\n",
    "    return numpy.frombuffer(a.numpy(), numpy.int16).reshape([32,32,32])\n",
    "\n",
    "for u in parsed_dataset.map(lambda x: tf.py_function(f, [x['schematicData']], [tf.int16])).take(1):\n",
    "    print(u)"
   ]
  },
  {
   "cell_type": "code",
   "execution_count": null,
   "metadata": {},
   "outputs": [],
   "source": []
  }
 ],
 "metadata": {
  "colab": {
   "name": "schematics.ipynb",
   "provenance": []
  },
  "kernelspec": {
   "display_name": "Python 3",
   "language": "python",
   "name": "python3"
  },
  "language_info": {
   "codemirror_mode": {
    "name": "ipython",
    "version": 3
   },
   "file_extension": ".py",
   "mimetype": "text/x-python",
   "name": "python",
   "nbconvert_exporter": "python",
   "pygments_lexer": "ipython3",
   "version": "3.8.7"
  }
 },
 "nbformat": 4,
 "nbformat_minor": 1
}
